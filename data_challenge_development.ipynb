{
 "cells": [
  {
   "cell_type": "code",
   "execution_count": 1,
   "metadata": {},
   "outputs": [
    {
     "name": "stdout",
     "output_type": "stream",
     "text": [
      "CPython 3.5.3\n",
      "IPython 5.1.0\n",
      "\n",
      "pandas 0.19.2\n",
      "numpy 1.11.3\n",
      "scipy 0.19.0\n",
      "faker n\u0007\n",
      "\n",
      "compiler   : GCC 4.4.7 20120313 (Red Hat 4.4.7-1)\n",
      "system     : Linux\n",
      "release    : 4.4.0-79-generic\n",
      "machine    : x86_64\n",
      "processor  : x86_64\n",
      "CPU cores  : 4\n",
      "interpreter: 64bit\n",
      "Git hash   : e4d423ecd94684bb81768e5b7d1b692cd6a43a7b\n"
     ]
    }
   ],
   "source": [
    "%load_ext watermark\n",
    "%watermark -v -m -p pandas,numpy,scipy,faker -g"
   ]
  },
  {
   "cell_type": "code",
   "execution_count": 2,
   "metadata": {
    "collapsed": true
   },
   "outputs": [],
   "source": [
    "number_people = 5000\n",
    "number_actions = 500000"
   ]
  },
  {
   "cell_type": "code",
   "execution_count": 3,
   "metadata": {},
   "outputs": [],
   "source": [
    "shows = {'title':['Velocity','HD','Punky Heels','Jack Wild','Duendes','Cant Buy Time'],\n",
    "        'genre':['action','drama','comedy','reality','fantasy','sci-fi'],\n",
    "        'description':['an action packed thriller about a pregnant woman stuck on a subway car that cannot slow down',\n",
    "                      '35 year old Mike, struggles to reconnect with his birth family after being diagnosed with a genetic disorder',\n",
    "                      'a romantic comedy about a young woman trying to find love in the city',\n",
    "                      'a recent college grad trying to find himself learns the meaning of life while stuck in an alaskan blizzard',\n",
    "                      'an unknown creature terrorizes the town of Salamanca, will they survive?',\n",
    "                      'a group of friends gets stuck in a suburban shopping mall as the manifold of time and space collapses around them'\n",
    "                      ],\n",
    "        'show_id':[1,2,3,4,5,6]\n",
    "        }"
   ]
  },
  {
   "cell_type": "code",
   "execution_count": 4,
   "metadata": {},
   "outputs": [],
   "source": [
    "import pandas as pd\n",
    "\n",
    "show_df = pd.DataFrame(shows)"
   ]
  },
  {
   "cell_type": "code",
   "execution_count": 5,
   "metadata": {},
   "outputs": [
    {
     "data": {
      "text/html": [
       "<div>\n",
       "<table border=\"1\" class=\"dataframe\">\n",
       "  <thead>\n",
       "    <tr style=\"text-align: right;\">\n",
       "      <th></th>\n",
       "      <th>description</th>\n",
       "      <th>genre</th>\n",
       "      <th>show_id</th>\n",
       "      <th>title</th>\n",
       "    </tr>\n",
       "  </thead>\n",
       "  <tbody>\n",
       "    <tr>\n",
       "      <th>0</th>\n",
       "      <td>an action packed thriller about a pregnant wom...</td>\n",
       "      <td>action</td>\n",
       "      <td>1</td>\n",
       "      <td>Velocity</td>\n",
       "    </tr>\n",
       "    <tr>\n",
       "      <th>1</th>\n",
       "      <td>35 year old Mike, struggles to reconnect with ...</td>\n",
       "      <td>drama</td>\n",
       "      <td>2</td>\n",
       "      <td>HD</td>\n",
       "    </tr>\n",
       "    <tr>\n",
       "      <th>2</th>\n",
       "      <td>a romantic comedy about a young woman trying t...</td>\n",
       "      <td>comedy</td>\n",
       "      <td>3</td>\n",
       "      <td>Punky Heels</td>\n",
       "    </tr>\n",
       "    <tr>\n",
       "      <th>3</th>\n",
       "      <td>a recent college grad trying to find himself l...</td>\n",
       "      <td>reality</td>\n",
       "      <td>4</td>\n",
       "      <td>Jack Wild</td>\n",
       "    </tr>\n",
       "    <tr>\n",
       "      <th>4</th>\n",
       "      <td>an unknown creature terrorizes the town of Sal...</td>\n",
       "      <td>fantasy</td>\n",
       "      <td>5</td>\n",
       "      <td>Duendes</td>\n",
       "    </tr>\n",
       "    <tr>\n",
       "      <th>5</th>\n",
       "      <td>a group of friends gets stuck in a suburban sh...</td>\n",
       "      <td>sci-fi</td>\n",
       "      <td>6</td>\n",
       "      <td>Cant Buy Time</td>\n",
       "    </tr>\n",
       "  </tbody>\n",
       "</table>\n",
       "</div>"
      ],
      "text/plain": [
       "                                         description    genre  show_id  \\\n",
       "0  an action packed thriller about a pregnant wom...   action        1   \n",
       "1  35 year old Mike, struggles to reconnect with ...    drama        2   \n",
       "2  a romantic comedy about a young woman trying t...   comedy        3   \n",
       "3  a recent college grad trying to find himself l...  reality        4   \n",
       "4  an unknown creature terrorizes the town of Sal...  fantasy        5   \n",
       "5  a group of friends gets stuck in a suburban sh...   sci-fi        6   \n",
       "\n",
       "           title  \n",
       "0       Velocity  \n",
       "1             HD  \n",
       "2    Punky Heels  \n",
       "3      Jack Wild  \n",
       "4        Duendes  \n",
       "5  Cant Buy Time  "
      ]
     },
     "execution_count": 5,
     "metadata": {},
     "output_type": "execute_result"
    }
   ],
   "source": [
    "show_df"
   ]
  },
  {
   "cell_type": "code",
   "execution_count": 6,
   "metadata": {},
   "outputs": [],
   "source": [
    "from faker import Faker\n",
    "fake = Faker()\n",
    "people = {'name': [],\n",
    "          'sex': [],\n",
    "          'bday': [],\n",
    "          'p_id':[]\n",
    "         }\n",
    "\n",
    "for i in range(number_people):\n",
    "    profile = fake.simple_profile(sex=None) \n",
    "    people['name'].append(profile['name'])\n",
    "    people['sex'].append(profile['sex'])\n",
    "    people['bday'].append(profile['birthdate'])\n",
    "    people['p_id'].append(i)\n",
    "    \n",
    "people_df = pd.DataFrame(people)"
   ]
  },
  {
   "cell_type": "code",
   "execution_count": 7,
   "metadata": {},
   "outputs": [],
   "source": [
    "from datetime import datetime, date, timedelta\n",
    "\n",
    "def calculate_age(bday):\n",
    "    bday = datetime.strptime(bday,'%Y-%m-%d')\n",
    "\n",
    "    today = date.today()\n",
    "    return today.year - bday.year - ((today.month, today.day) < (bday.month, bday.day))\n",
    "\n",
    "people_df['age'] = people_df['bday'].apply(calculate_age)"
   ]
  },
  {
   "cell_type": "code",
   "execution_count": 8,
   "metadata": {
    "collapsed": true
   },
   "outputs": [],
   "source": [
    "import numpy as np\n",
    "\n",
    "def generate_alpha_dict(x, y, num_out=1):\n",
    "    output = {}\n",
    "    if isinstance(y, list):\n",
    "        low_y = y[0]\n",
    "        high_y = y[1]\n",
    "    else:\n",
    "        low_y = 1\n",
    "        high_y = y\n",
    "        \n",
    "    for i in range(x+1):\n",
    "        output[i] = np.random.uniform(low_y,high_y, size=num_out)\n",
    "    \n",
    "    return output"
   ]
  },
  {
   "cell_type": "code",
   "execution_count": 9,
   "metadata": {},
   "outputs": [],
   "source": [
    "import numpy as np\n",
    "\n",
    "def per_row_draws(customer_df, draw_func, parameter_func, alpha):\n",
    "    assert isinstance(customer_df, pd.DataFrame)\n",
    "    \n",
    "    output = []\n",
    "    for i in customer_df.iterrows():\n",
    "        draw_inputs = parameter_func(i, alpha)\n",
    "        output.append(draw_func(*draw_inputs))\n",
    "    \n",
    "    return output"
   ]
  },
  {
   "cell_type": "code",
   "execution_count": 10,
   "metadata": {
    "collapsed": true
   },
   "outputs": [],
   "source": [
    "def filler_func(row, alpha):\n",
    "    return []\n",
    "\n",
    "# people_df['affinity_4_tv'] = per_row_draws(people_df, np.random.normal, filler_func, [])"
   ]
  },
  {
   "cell_type": "code",
   "execution_count": 11,
   "metadata": {
    "collapsed": true
   },
   "outputs": [],
   "source": [
    "def find_age_group(row, alpha):\n",
    "    assert isinstance(alpha, dict)\n",
    "\n",
    "    age = int(row[1]['age'] / 10)\n",
    "    while True:\n",
    "        if age in alpha:\n",
    "            # a_out = alpha[age] + row[1]['affinity_4_tv']\n",
    "            a_out = alpha[age]\n",
    "            a_out = max(0.001, a_out)\n",
    "            return [alpha[age], 5]\n",
    "        else:\n",
    "            age -= 1\n",
    "        if age < 0:\n",
    "            return 'alpha_dict broken!'\n",
    "\n",
    "\n",
    "age_tv_watching_alphas = generate_alpha_dict(10,10)\n",
    "people_df['watch_prob'] = per_row_draws(people_df, np.random.beta, find_age_group, age_tv_watching_alphas)"
   ]
  },
  {
   "cell_type": "code",
   "execution_count": 12,
   "metadata": {
    "collapsed": true
   },
   "outputs": [],
   "source": [
    "def find_show_probability(row, alpha_dict):  \n",
    "    male_dict = alpha_dict[0]\n",
    "    female_dict = alpha_dict[1]\n",
    "    gender = row[1]['sex']\n",
    "    if gender == 'M':\n",
    "        alpha = male_dict\n",
    "    elif gender == 'F':\n",
    "        alpha = female_dict\n",
    "    else:\n",
    "        return 'i am outdated and only do binary gender'\n",
    "    \n",
    "    age = int(row[1]['age'] / 10)\n",
    "    while True:\n",
    "        if age in alpha:\n",
    "            return [alpha[age]]\n",
    "        else:\n",
    "            age -= 1\n",
    "        if age < 0:\n",
    "            return 'alpha_dict broken!'"
   ]
  },
  {
   "cell_type": "code",
   "execution_count": 13,
   "metadata": {},
   "outputs": [],
   "source": [
    "female_alphas = generate_alpha_dict(10,10, num_out=show_df.shape[0])\n",
    "male_alphas = generate_alpha_dict(10,10, num_out=show_df.shape[0])\n",
    "\n",
    "alpha = [male_alphas, female_alphas]\n",
    "\n",
    "people_df['show_prob'] = per_row_draws(people_df, np.random.dirichlet, find_show_probability, alpha)"
   ]
  },
  {
   "cell_type": "code",
   "execution_count": 14,
   "metadata": {
    "collapsed": true
   },
   "outputs": [],
   "source": [
    "def create_use_df(customer_df, show_df, size=1000, person_id = 'p_id'):\n",
    "    behavior_dict = {'show_id':[], 'p_id':[]}\n",
    "    shows = show_df['show_id'].values\n",
    "    \n",
    "    while len(behavior_dict['show_id']) < size:\n",
    "        person = customer_df[customer_df[person_id] == np.random.choice(customer_df[person_id])] \n",
    "        \n",
    "        if np.random.binomial(1, person.watch_prob.values[0]):\n",
    "            show_watched = shows[np.where(np.random.multinomial(1, person.show_prob.values[0], size=1)[0])[0][0]]\n",
    "            behavior_dict['p_id'].append(person.p_id.values[0])\n",
    "            behavior_dict['show_id'].append(show_watched)\n",
    "    \n",
    "    return behavior_dict"
   ]
  },
  {
   "cell_type": "code",
   "execution_count": 15,
   "metadata": {},
   "outputs": [],
   "source": [
    "behavioral_df = pd.DataFrame(create_use_df(people_df, show_df, size=number_actions))"
   ]
  },
  {
   "cell_type": "code",
   "execution_count": 16,
   "metadata": {},
   "outputs": [],
   "source": [
    "def create_person_alpha_dict(behavioral_df, show_df):\n",
    "    output = {}\n",
    "    genre_proclivity = np.random.rand(show_df.shape[0])\n",
    "    shows = show_df['show_id'].values    \n",
    "        \n",
    "    grouped_df = pd.merge(behavioral_df, show_df, on='show_id')\\\n",
    "                    .groupby(['p_id','show_id'])['title'].count()\\\n",
    "                    .unstack().reset_index().fillna(0)\n",
    "    grouped_df['total'] = grouped_df[shows].sum(axis=1)\n",
    "    grouped_df['total'] = grouped_df['total']/grouped_df['total'].max()\n",
    "    grouped_df[shows] = grouped_df[shows].apply(lambda x: x/sum(x), axis=1)\n",
    "    for row in grouped_df.iterrows():\n",
    "        output[row[1]['p_id']] = sum(row[1][shows].values*genre_proclivity, row[1]['total'])*5\n",
    "    return output"
   ]
  },
  {
   "cell_type": "code",
   "execution_count": null,
   "metadata": {
    "collapsed": true
   },
   "outputs": [],
   "source": [
    "def signup_probability(row, alpha_dict):\n",
    "    if row[1]['p_id'] not in alpha_dict:\n",
    "        return [0.001, 5]\n",
    "    else:\n",
    "        return [alpha_dict[row[1]['p_id']], 5]\n",
    "\n",
    "alpha = create_person_alpha_dict(behavioral_df, show_df)\n",
    "people_df['subscriber_prob'] = per_row_draws(people_df, np.random.beta, signup_probability, alpha)"
   ]
  },
  {
   "cell_type": "code",
   "execution_count": null,
   "metadata": {},
   "outputs": [],
   "source": [
    "def create_sub_alpha_dict(people_df):\n",
    "    output = {}\n",
    "    for row in people_df.iterrows():\n",
    "        output[row[1]['p_id']] = row[1]['subscriber_prob']\n",
    "    return output\n",
    "\n",
    "def signup_probability(row, alpha_dict):\n",
    "    assert row[1]['p_id'] in alpha_dict\n",
    "    return [1, alpha_dict[row[1]['p_id']]]\n",
    "\n",
    "alpha = create_sub_alpha_dict(people_df)\n",
    "people_df['subscriber'] = per_row_draws(people_df, np.random.binomial, signup_probability, alpha)"
   ]
  },
  {
   "cell_type": "code",
   "execution_count": null,
   "metadata": {},
   "outputs": [],
   "source": [
    "people_df.head()"
   ]
  },
  {
   "cell_type": "markdown",
   "metadata": {},
   "source": [
    "make sure that I have some class imbalance"
   ]
  },
  {
   "cell_type": "code",
   "execution_count": null,
   "metadata": {},
   "outputs": [],
   "source": [
    "np.mean(people_df.subscriber)"
   ]
  },
  {
   "cell_type": "code",
   "execution_count": null,
   "metadata": {},
   "outputs": [],
   "source": [
    "people_df = people_df[['bday','name','p_id','sex','subscriber']]\n",
    "people_df.head()"
   ]
  },
  {
   "cell_type": "code",
   "execution_count": null,
   "metadata": {},
   "outputs": [],
   "source": [
    "def change_column(column, change_func, change_rate=0.001):\n",
    "    output = []\n",
    "    count = 0\n",
    "    for i in column:\n",
    "        if np.random.rand() <= change_rate:\n",
    "            count += 1\n",
    "            i = change_func(i)\n",
    "        output.append(i)\n",
    "    \n",
    "    print(count)\n",
    "    return output\n",
    "\n",
    "def change_bday(bday):\n",
    "    bday = datetime.strptime(bday,'%Y-%m-%d')-timedelta(days=365*500)\n",
    "    bday = bday.strftime('%Y-%m-%d')\n",
    "    return bday\n",
    "\n",
    "def change_key(key):\n",
    "    return key+np.random.randint(10000,100000)\n",
    "\n",
    "people_df['bday'] = change_column(people_df['bday'],change_bday)\n",
    "behavioral_df['p_id'] = change_column(behavioral_df['p_id'],change_key,change_rate=0.0002)\n",
    "behavioral_df['show_id'] = change_column(behavioral_df['show_id'],change_key,change_rate=0.0002)"
   ]
  },
  {
   "cell_type": "code",
   "execution_count": null,
   "metadata": {
    "collapsed": true
   },
   "outputs": [],
   "source": [
    "people_df.to_csv('subscribers.csv', index=False)"
   ]
  },
  {
   "cell_type": "code",
   "execution_count": null,
   "metadata": {
    "collapsed": true
   },
   "outputs": [],
   "source": [
    "behavioral_df.to_csv('actions.csv', index=False)"
   ]
  },
  {
   "cell_type": "code",
   "execution_count": null,
   "metadata": {},
   "outputs": [],
   "source": [
    "show_df.to_csv('shows.csv', index=False)"
   ]
  }
 ],
 "metadata": {
  "kernelspec": {
   "display_name": "Python [default]",
   "language": "python",
   "name": "python3"
  },
  "language_info": {
   "codemirror_mode": {
    "name": "ipython",
    "version": 3
   },
   "file_extension": ".py",
   "mimetype": "text/x-python",
   "name": "python",
   "nbconvert_exporter": "python",
   "pygments_lexer": "ipython3",
   "version": "3.5.3"
  }
 },
 "nbformat": 4,
 "nbformat_minor": 2
}
