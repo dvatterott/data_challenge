{
 "cells": [
  {
   "cell_type": "code",
   "execution_count": 1,
   "metadata": {},
   "outputs": [
    {
     "name": "stdout",
     "output_type": "stream",
     "text": [
      "CPython 3.5.3\n",
      "IPython 5.1.0\n",
      "\n",
      "pandas 0.19.2\n",
      "numpy 1.11.3\n",
      "scipy 0.19.0\n",
      "faker n\u0007\n",
      "\n",
      "compiler   : GCC 4.4.7 20120313 (Red Hat 4.4.7-1)\n",
      "system     : Linux\n",
      "release    : 4.4.0-79-generic\n",
      "machine    : x86_64\n",
      "processor  : x86_64\n",
      "CPU cores  : 4\n",
      "interpreter: 64bit\n",
      "Git hash   : 92f197794a40b3992f64b8e246184a9e42aa7439\n"
     ]
    }
   ],
   "source": [
    "%load_ext watermark\n",
    "%watermark -v -m -p pandas,numpy,scipy,faker -g"
   ]
  },
  {
   "cell_type": "code",
   "execution_count": 2,
   "metadata": {
    "collapsed": true
   },
   "outputs": [],
   "source": [
    "number_people = 10000\n",
    "number_actions = 1000000\n",
    "precision = 1"
   ]
  },
  {
   "cell_type": "code",
   "execution_count": 3,
   "metadata": {
    "collapsed": true
   },
   "outputs": [],
   "source": [
    "shows = {'title':['Velocity','HD','Punky Heels','Jack Wild','Duendes','Cant Buy Time'],\n",
    "        'genre':['action','drama','comedy','reality','fantasy','sci-fi'],\n",
    "        'description':['an action packed thriller about a pregnant woman stuck on a subway car that cannot slow down',\n",
    "                      '35 year old Mike, struggles to reconnect with his birth family after being diagnosed with a genetic disorder',\n",
    "                      'a romantic comedy about a young woman trying to find love in the city',\n",
    "                      'a recent college grad trying to find himself learns the meaning of life while stuck in an alaskan blizzard',\n",
    "                      'an unknown creature terrorizes the town of Salamanca, will they survive?',\n",
    "                      'a group of friends gets stuck in a suburban shopping mall as the manifold of time and space collapses around them'\n",
    "                      ],\n",
    "        'show_id':[1,2,3,4,5,6]\n",
    "        }"
   ]
  },
  {
   "cell_type": "code",
   "execution_count": 4,
   "metadata": {
    "collapsed": true
   },
   "outputs": [],
   "source": [
    "import pandas as pd\n",
    "\n",
    "show_df = pd.DataFrame(shows)"
   ]
  },
  {
   "cell_type": "code",
   "execution_count": 5,
   "metadata": {},
   "outputs": [
    {
     "data": {
      "text/html": [
       "<div>\n",
       "<table border=\"1\" class=\"dataframe\">\n",
       "  <thead>\n",
       "    <tr style=\"text-align: right;\">\n",
       "      <th></th>\n",
       "      <th>description</th>\n",
       "      <th>genre</th>\n",
       "      <th>show_id</th>\n",
       "      <th>title</th>\n",
       "    </tr>\n",
       "  </thead>\n",
       "  <tbody>\n",
       "    <tr>\n",
       "      <th>0</th>\n",
       "      <td>an action packed thriller about a pregnant wom...</td>\n",
       "      <td>action</td>\n",
       "      <td>1</td>\n",
       "      <td>Velocity</td>\n",
       "    </tr>\n",
       "    <tr>\n",
       "      <th>1</th>\n",
       "      <td>35 year old Mike, struggles to reconnect with ...</td>\n",
       "      <td>drama</td>\n",
       "      <td>2</td>\n",
       "      <td>HD</td>\n",
       "    </tr>\n",
       "    <tr>\n",
       "      <th>2</th>\n",
       "      <td>a romantic comedy about a young woman trying t...</td>\n",
       "      <td>comedy</td>\n",
       "      <td>3</td>\n",
       "      <td>Punky Heels</td>\n",
       "    </tr>\n",
       "    <tr>\n",
       "      <th>3</th>\n",
       "      <td>a recent college grad trying to find himself l...</td>\n",
       "      <td>reality</td>\n",
       "      <td>4</td>\n",
       "      <td>Jack Wild</td>\n",
       "    </tr>\n",
       "    <tr>\n",
       "      <th>4</th>\n",
       "      <td>an unknown creature terrorizes the town of Sal...</td>\n",
       "      <td>fantasy</td>\n",
       "      <td>5</td>\n",
       "      <td>Duendes</td>\n",
       "    </tr>\n",
       "    <tr>\n",
       "      <th>5</th>\n",
       "      <td>a group of friends gets stuck in a suburban sh...</td>\n",
       "      <td>sci-fi</td>\n",
       "      <td>6</td>\n",
       "      <td>Cant Buy Time</td>\n",
       "    </tr>\n",
       "  </tbody>\n",
       "</table>\n",
       "</div>"
      ],
      "text/plain": [
       "                                         description    genre  show_id  \\\n",
       "0  an action packed thriller about a pregnant wom...   action        1   \n",
       "1  35 year old Mike, struggles to reconnect with ...    drama        2   \n",
       "2  a romantic comedy about a young woman trying t...   comedy        3   \n",
       "3  a recent college grad trying to find himself l...  reality        4   \n",
       "4  an unknown creature terrorizes the town of Sal...  fantasy        5   \n",
       "5  a group of friends gets stuck in a suburban sh...   sci-fi        6   \n",
       "\n",
       "           title  \n",
       "0       Velocity  \n",
       "1             HD  \n",
       "2    Punky Heels  \n",
       "3      Jack Wild  \n",
       "4        Duendes  \n",
       "5  Cant Buy Time  "
      ]
     },
     "execution_count": 5,
     "metadata": {},
     "output_type": "execute_result"
    }
   ],
   "source": [
    "show_df"
   ]
  },
  {
   "cell_type": "code",
   "execution_count": 6,
   "metadata": {
    "collapsed": true
   },
   "outputs": [],
   "source": [
    "from faker import Faker\n",
    "fake = Faker()\n",
    "people = {'name': [],\n",
    "          'sex': [],\n",
    "          'bday': [],\n",
    "          'p_id':[]\n",
    "         }\n",
    "\n",
    "for i in range(number_people):\n",
    "    profile = fake.simple_profile(sex=None) \n",
    "    people['name'].append(profile['name'])\n",
    "    people['sex'].append(profile['sex'])\n",
    "    people['bday'].append(profile['birthdate'])\n",
    "    people['p_id'].append(i)\n",
    "    \n",
    "people_df = pd.DataFrame(people)"
   ]
  },
  {
   "cell_type": "code",
   "execution_count": 7,
   "metadata": {
    "collapsed": true
   },
   "outputs": [],
   "source": [
    "from datetime import datetime, date, timedelta\n",
    "\n",
    "def calculate_age(bday):\n",
    "    bday = datetime.strptime(bday,'%Y-%m-%d')\n",
    "\n",
    "    today = date.today()\n",
    "    return today.year - bday.year - ((today.month, today.day) < (bday.month, bday.day))\n",
    "\n",
    "people_df['age'] = people_df['bday'].apply(calculate_age)"
   ]
  },
  {
   "cell_type": "code",
   "execution_count": 8,
   "metadata": {
    "collapsed": true
   },
   "outputs": [],
   "source": [
    "import numpy as np\n",
    "\n",
    "def generate_alpha_dict(x, precision=5, num_out=1, beta=True):\n",
    "    output = {}\n",
    "    for i in range(x+1):\n",
    "        if beta:\n",
    "            output[i] = [precision*np.random.uniform(0.5,1.51, size=[num_out,]),precision]\n",
    "        else:\n",
    "            output[i] = precision*np.random.uniform(0.5,1.51, size=[num_out,])\n",
    "    \n",
    "    return output"
   ]
  },
  {
   "cell_type": "code",
   "execution_count": 9,
   "metadata": {
    "collapsed": true
   },
   "outputs": [],
   "source": [
    "import numpy as np\n",
    "\n",
    "def per_row_draws(customer_df, draw_func, parameter_func, alpha):\n",
    "    assert isinstance(customer_df, pd.DataFrame)\n",
    "    \n",
    "    output = []\n",
    "    for i in customer_df.iterrows():\n",
    "        draw_inputs = parameter_func(i, alpha)\n",
    "        output.append(draw_func(*draw_inputs))\n",
    "    \n",
    "    return output"
   ]
  },
  {
   "cell_type": "code",
   "execution_count": 10,
   "metadata": {},
   "outputs": [],
   "source": [
    "def find_age_group(row, alpha):\n",
    "    assert isinstance(alpha, dict)\n",
    "\n",
    "    age = int(row[1]['age'] / 10)\n",
    "    while True:\n",
    "        if age in alpha:\n",
    "            return alpha[age]\n",
    "        else:\n",
    "            age -= 1\n",
    "        if age < 0:\n",
    "            return 'alpha_dict broken!'\n",
    "\n",
    "\n",
    "age_tv_watching_alphas = generate_alpha_dict(10, precision=precision)\n",
    "people_df['watch_prob'] = per_row_draws(people_df, np.random.beta, find_age_group, age_tv_watching_alphas)"
   ]
  },
  {
   "cell_type": "code",
   "execution_count": 11,
   "metadata": {},
   "outputs": [
    {
     "data": {
      "text/plain": [
       "<matplotlib.axes._subplots.AxesSubplot at 0x7f0e94047668>"
      ]
     },
     "execution_count": 11,
     "metadata": {},
     "output_type": "execute_result"
    },
    {
     "data": {
      "image/png": "[encoded data removed]",
      "text/plain": [
       "<matplotlib.figure.Figure at 0x7f0e962e5278>"
      ]
     },
     "metadata": {},
     "output_type": "display_data"
    }
   ],
   "source": [
    "import matplotlib.pyplot as plt\n",
    "%matplotlib inline\n",
    "\n",
    "people_df.watch_prob.hist()"
   ]
  },
  {
   "cell_type": "code",
   "execution_count": 12,
   "metadata": {
    "collapsed": true
   },
   "outputs": [],
   "source": [
    "def find_show_probability(row, alpha_dict):  \n",
    "    male_dict = alpha_dict[0]\n",
    "    female_dict = alpha_dict[1]\n",
    "    gender = row[1]['sex']\n",
    "    if gender == 'M':\n",
    "        alpha = male_dict\n",
    "    elif gender == 'F':\n",
    "        alpha = female_dict\n",
    "    else:\n",
    "        return 'i am outdated and only do binary gender'\n",
    "    \n",
    "    age = int(row[1]['age'] / 10)\n",
    "    while True:\n",
    "        if age in alpha:\n",
    "            return [alpha[age]]\n",
    "        else:\n",
    "            age -= 1\n",
    "        if age < 0:\n",
    "            return 'alpha_dict broken!'"
   ]
  },
  {
   "cell_type": "code",
   "execution_count": 13,
   "metadata": {},
   "outputs": [],
   "source": [
    "female_alphas = generate_alpha_dict(10, precision=precision, num_out=show_df.shape[0], beta=False)\n",
    "male_alphas = generate_alpha_dict(10, precision=precision, num_out=show_df.shape[0], beta=False)\n",
    "\n",
    "alpha = [male_alphas, female_alphas]\n",
    "\n",
    "people_df['show_prob'] = per_row_draws(people_df, np.random.dirichlet, find_show_probability, alpha)"
   ]
  },
  {
   "cell_type": "code",
   "execution_count": 14,
   "metadata": {
    "collapsed": true
   },
   "outputs": [],
   "source": [
    "def create_use_df(customer_df, show_df, size=1000, person_id = 'p_id'):\n",
    "    behavior_dict = {'show_id':[], 'p_id':[]}\n",
    "    shows = show_df['show_id'].values\n",
    "    \n",
    "    while len(behavior_dict['show_id']) < size:\n",
    "        person = customer_df[customer_df[person_id] == np.random.choice(customer_df[person_id])] \n",
    "        \n",
    "        if np.random.binomial(1, person.watch_prob.values[0]):\n",
    "            show_watched = shows[np.where(np.random.multinomial(1, person.show_prob.values[0], size=1)[0])[0][0]]\n",
    "            behavior_dict['p_id'].append(person.p_id.values[0])\n",
    "            behavior_dict['show_id'].append(show_watched)\n",
    "    \n",
    "    return behavior_dict"
   ]
  },
  {
   "cell_type": "code",
   "execution_count": 15,
   "metadata": {
    "collapsed": true
   },
   "outputs": [],
   "source": [
    "behavioral_df = pd.DataFrame(create_use_df(people_df, show_df, size=number_actions))"
   ]
  },
  {
   "cell_type": "code",
   "execution_count": 94,
   "metadata": {},
   "outputs": [],
   "source": [
    "def create_person_alpha_dict(behavioral_df, show_df, precision=100):\n",
    "    output = {}\n",
    "    genre_proclivity = np.random.rand(show_df.shape[0])**2\n",
    "    print(genre_proclivity)\n",
    "    shows = show_df['show_id'].values    \n",
    "        \n",
    "    grouped_df = pd.merge(behavioral_df, show_df, on='show_id')\\\n",
    "                    .groupby(['p_id','show_id'])['title'].count()\\\n",
    "                    .unstack().reset_index().fillna(0)\n",
    "    grouped_df['total'] = grouped_df[shows].sum(axis=1)\n",
    "    grouped_df['total'] = grouped_df['total']/grouped_df['total'].max()\n",
    "    grouped_df[shows] = grouped_df[shows].apply(lambda x: x/sum(x), axis=1)\n",
    "    for row in grouped_df.iterrows():\n",
    "        output[row[1]['p_id']] = [precision*sum((row[1][shows].values**2)*genre_proclivity*4, (row[1]['total']**2)), precision]\n",
    "        # output[row[1]['p_id']] = [precision*(row[1]['total']*3)**2,precision]\n",
    "    return output"
   ]
  },
  {
   "cell_type": "code",
   "execution_count": 95,
   "metadata": {},
   "outputs": [
    {
     "name": "stdout",
     "output_type": "stream",
     "text": [
      "[ 0.00472012  0.05716067  0.94869851  0.24084681  0.56567342  0.71941358]\n"
     ]
    }
   ],
   "source": [
    "def signup_probability(row, alpha_dict):\n",
    "    if row[1]['p_id'] not in alpha_dict:\n",
    "        return [0.001, 5]\n",
    "    else:\n",
    "        return alpha_dict[row[1]['p_id']]\n",
    "\n",
    "alpha = create_person_alpha_dict(behavioral_df, show_df, precision=1000/precision)\n",
    "people_df['subscriber_prob'] = per_row_draws(people_df, np.random.beta, signup_probability, alpha)"
   ]
  },
  {
   "cell_type": "code",
   "execution_count": 96,
   "metadata": {},
   "outputs": [
    {
     "name": "stdout",
     "output_type": "stream",
     "text": [
      "[[ 1.          0.98691192]\n",
      " [ 0.98691192  1.        ]]\n"
     ]
    },
    {
     "data": {
      "image/png": "[encoded data removed]",
      "text/plain": [
       "<matplotlib.figure.Figure at 0x7f0e90ff12e8>"
      ]
     },
     "metadata": {},
     "output_type": "display_data"
    }
   ],
   "source": [
    "def test_features(x, y):\n",
    "    print(np.corrcoef(x,y))\n",
    "    plt.plot(x,y,'o')\n",
    "    \n",
    "test_features(people_df[people_df.p_id.isin(behavioral_df.p_id.unique())].watch_prob,\n",
    "             behavioral_df.groupby('p_id')['show_id'].count().reset_index()['show_id'])"
   ]
  },
  {
   "cell_type": "code",
   "execution_count": 97,
   "metadata": {},
   "outputs": [
    {
     "name": "stdout",
     "output_type": "stream",
     "text": [
      "[[ 1.          0.40693671]\n",
      " [ 0.40693671  1.        ]]\n"
     ]
    },
    {
     "data": {
      "image/png": "[encoded data removed]",
      "text/plain": [
       "<matplotlib.figure.Figure at 0x7f0e914286a0>"
      ]
     },
     "metadata": {},
     "output_type": "display_data"
    }
   ],
   "source": [
    "test_features(people_df[people_df.p_id.isin(behavioral_df.p_id.unique())].subscriber_prob,\n",
    "             behavioral_df.groupby('p_id')['show_id'].count().reset_index()['show_id'])"
   ]
  },
  {
   "cell_type": "code",
   "execution_count": 98,
   "metadata": {},
   "outputs": [
    {
     "name": "stdout",
     "output_type": "stream",
     "text": [
      "[[ 1.          0.43239983]\n",
      " [ 0.43239983  1.        ]]\n"
     ]
    },
    {
     "data": {
      "image/png": "[encoded data removed]",
      "text/plain": [
       "<matplotlib.figure.Figure at 0x7f0e90eb9a58>"
      ]
     },
     "metadata": {},
     "output_type": "display_data"
    }
   ],
   "source": [
    "test_features(people_df.subscriber_prob, people_df.watch_prob)"
   ]
  },
  {
   "cell_type": "code",
   "execution_count": 108,
   "metadata": {
    "collapsed": true
   },
   "outputs": [],
   "source": [
    "shows = show_df['show_id'].values    \n",
    "\n",
    "grouped_df = pd.merge(behavioral_df, show_df, on='show_id')\\\n",
    "                .groupby(['p_id','show_id'])['title'].count()\\\n",
    "                .unstack().reset_index().fillna(0)\n",
    "grouped_df['total'] = grouped_df[shows].sum(axis=1)\n",
    "grouped_df['total'] = grouped_df['total']/grouped_df['total'].max()\n",
    "grouped_df[shows] = grouped_df[shows].apply(lambda x: x/sum(x), axis=1)"
   ]
  },
  {
   "cell_type": "code",
   "execution_count": 119,
   "metadata": {},
   "outputs": [
    {
     "data": {
      "text/plain": [
       "array([[ 1.        ,  0.25869642],\n",
       "       [ 0.25869642,  1.        ]])"
      ]
     },
     "execution_count": 119,
     "metadata": {},
     "output_type": "execute_result"
    }
   ],
   "source": [
    "np.corrcoef(grouped_df[6],\n",
    "            people_df[people_df.p_id.isin(behavioral_df.p_id.unique())].subscriber_prob)"
   ]
  },
  {
   "cell_type": "code",
   "execution_count": 99,
   "metadata": {},
   "outputs": [
    {
     "data": {
      "text/plain": [
       "0.4202082376263792"
      ]
     },
     "execution_count": 99,
     "metadata": {},
     "output_type": "execute_result"
    }
   ],
   "source": [
    "np.mean(people_df.subscriber_prob)"
   ]
  },
  {
   "cell_type": "code",
   "execution_count": 100,
   "metadata": {
    "collapsed": true
   },
   "outputs": [],
   "source": [
    "def create_sub_alpha_dict(people_df):\n",
    "    output = {}\n",
    "    for row in people_df.iterrows():\n",
    "        output[row[1]['p_id']] = row[1]['subscriber_prob']\n",
    "    return output\n",
    "\n",
    "def signup_probability(row, alpha_dict):\n",
    "    assert row[1]['p_id'] in alpha_dict\n",
    "    return [1, alpha_dict[row[1]['p_id']]]\n",
    "\n",
    "alpha = create_sub_alpha_dict(people_df)\n",
    "people_df['subscriber'] = per_row_draws(people_df, np.random.binomial, signup_probability, alpha)"
   ]
  },
  {
   "cell_type": "code",
   "execution_count": 101,
   "metadata": {},
   "outputs": [
    {
     "data": {
      "text/plain": [
       "0.4175"
      ]
     },
     "execution_count": 101,
     "metadata": {},
     "output_type": "execute_result"
    }
   ],
   "source": [
    "np.mean(people_df.subscriber)"
   ]
  },
  {
   "cell_type": "code",
   "execution_count": 102,
   "metadata": {},
   "outputs": [
    {
     "data": {
      "text/html": [
       "<div>\n",
       "<table border=\"1\" class=\"dataframe\">\n",
       "  <thead>\n",
       "    <tr style=\"text-align: right;\">\n",
       "      <th></th>\n",
       "      <th>bday</th>\n",
       "      <th>name</th>\n",
       "      <th>p_id</th>\n",
       "      <th>sex</th>\n",
       "      <th>age</th>\n",
       "      <th>watch_prob</th>\n",
       "      <th>show_prob</th>\n",
       "      <th>subscriber_prob</th>\n",
       "      <th>subscriber</th>\n",
       "    </tr>\n",
       "  </thead>\n",
       "  <tbody>\n",
       "    <tr>\n",
       "      <th>0</th>\n",
       "      <td>1995-03-06</td>\n",
       "      <td>Ronald Parker</td>\n",
       "      <td>0</td>\n",
       "      <td>M</td>\n",
       "      <td>22</td>\n",
       "      <td>0.259556</td>\n",
       "      <td>[0.262641617676, 0.33744516259, 0.019937907003...</td>\n",
       "      <td>0.139363</td>\n",
       "      <td>0</td>\n",
       "    </tr>\n",
       "    <tr>\n",
       "      <th>1</th>\n",
       "      <td>2007-09-08</td>\n",
       "      <td>Jason Wilkinson</td>\n",
       "      <td>1</td>\n",
       "      <td>M</td>\n",
       "      <td>9</td>\n",
       "      <td>0.647592</td>\n",
       "      <td>[0.386352603226, 0.189916051754, 0.33228244858...</td>\n",
       "      <td>0.441412</td>\n",
       "      <td>1</td>\n",
       "    </tr>\n",
       "    <tr>\n",
       "      <th>2</th>\n",
       "      <td>2005-09-25</td>\n",
       "      <td>Antonio Scott</td>\n",
       "      <td>2</td>\n",
       "      <td>M</td>\n",
       "      <td>11</td>\n",
       "      <td>0.834797</td>\n",
       "      <td>[0.115297493268, 0.511782696982, 0.07493714345...</td>\n",
       "      <td>0.412973</td>\n",
       "      <td>0</td>\n",
       "    </tr>\n",
       "    <tr>\n",
       "      <th>3</th>\n",
       "      <td>2008-08-27</td>\n",
       "      <td>David Kelley</td>\n",
       "      <td>3</td>\n",
       "      <td>M</td>\n",
       "      <td>8</td>\n",
       "      <td>0.562002</td>\n",
       "      <td>[0.408814784828, 0.0463841226788, 0.0365731961...</td>\n",
       "      <td>0.274308</td>\n",
       "      <td>0</td>\n",
       "    </tr>\n",
       "    <tr>\n",
       "      <th>4</th>\n",
       "      <td>1993-03-30</td>\n",
       "      <td>Paula Romero</td>\n",
       "      <td>4</td>\n",
       "      <td>F</td>\n",
       "      <td>24</td>\n",
       "      <td>0.911391</td>\n",
       "      <td>[0.0584781902719, 0.176506590641, 0.1250499217...</td>\n",
       "      <td>0.539003</td>\n",
       "      <td>0</td>\n",
       "    </tr>\n",
       "  </tbody>\n",
       "</table>\n",
       "</div>"
      ],
      "text/plain": [
       "         bday             name  p_id sex  age  watch_prob  \\\n",
       "0  1995-03-06    Ronald Parker     0   M   22    0.259556   \n",
       "1  2007-09-08  Jason Wilkinson     1   M    9    0.647592   \n",
       "2  2005-09-25    Antonio Scott     2   M   11    0.834797   \n",
       "3  2008-08-27     David Kelley     3   M    8    0.562002   \n",
       "4  1993-03-30     Paula Romero     4   F   24    0.911391   \n",
       "\n",
       "                                           show_prob  subscriber_prob  \\\n",
       "0  [0.262641617676, 0.33744516259, 0.019937907003...         0.139363   \n",
       "1  [0.386352603226, 0.189916051754, 0.33228244858...         0.441412   \n",
       "2  [0.115297493268, 0.511782696982, 0.07493714345...         0.412973   \n",
       "3  [0.408814784828, 0.0463841226788, 0.0365731961...         0.274308   \n",
       "4  [0.0584781902719, 0.176506590641, 0.1250499217...         0.539003   \n",
       "\n",
       "   subscriber  \n",
       "0           0  \n",
       "1           1  \n",
       "2           0  \n",
       "3           0  \n",
       "4           0  "
      ]
     },
     "execution_count": 102,
     "metadata": {},
     "output_type": "execute_result"
    }
   ],
   "source": [
    "people_df.head()"
   ]
  },
  {
   "cell_type": "markdown",
   "metadata": {},
   "source": [
    "make sure that I have some class imbalance"
   ]
  },
  {
   "cell_type": "code",
   "execution_count": 103,
   "metadata": {},
   "outputs": [
    {
     "data": {
      "text/html": [
       "<div>\n",
       "<table border=\"1\" class=\"dataframe\">\n",
       "  <thead>\n",
       "    <tr style=\"text-align: right;\">\n",
       "      <th></th>\n",
       "      <th>bday</th>\n",
       "      <th>name</th>\n",
       "      <th>p_id</th>\n",
       "      <th>sex</th>\n",
       "      <th>subscriber</th>\n",
       "    </tr>\n",
       "  </thead>\n",
       "  <tbody>\n",
       "    <tr>\n",
       "      <th>0</th>\n",
       "      <td>1995-03-06</td>\n",
       "      <td>Ronald Parker</td>\n",
       "      <td>0</td>\n",
       "      <td>M</td>\n",
       "      <td>0</td>\n",
       "    </tr>\n",
       "    <tr>\n",
       "      <th>1</th>\n",
       "      <td>2007-09-08</td>\n",
       "      <td>Jason Wilkinson</td>\n",
       "      <td>1</td>\n",
       "      <td>M</td>\n",
       "      <td>1</td>\n",
       "    </tr>\n",
       "    <tr>\n",
       "      <th>2</th>\n",
       "      <td>2005-09-25</td>\n",
       "      <td>Antonio Scott</td>\n",
       "      <td>2</td>\n",
       "      <td>M</td>\n",
       "      <td>0</td>\n",
       "    </tr>\n",
       "    <tr>\n",
       "      <th>3</th>\n",
       "      <td>2008-08-27</td>\n",
       "      <td>David Kelley</td>\n",
       "      <td>3</td>\n",
       "      <td>M</td>\n",
       "      <td>0</td>\n",
       "    </tr>\n",
       "    <tr>\n",
       "      <th>4</th>\n",
       "      <td>1993-03-30</td>\n",
       "      <td>Paula Romero</td>\n",
       "      <td>4</td>\n",
       "      <td>F</td>\n",
       "      <td>0</td>\n",
       "    </tr>\n",
       "  </tbody>\n",
       "</table>\n",
       "</div>"
      ],
      "text/plain": [
       "         bday             name  p_id sex  subscriber\n",
       "0  1995-03-06    Ronald Parker     0   M           0\n",
       "1  2007-09-08  Jason Wilkinson     1   M           1\n",
       "2  2005-09-25    Antonio Scott     2   M           0\n",
       "3  2008-08-27     David Kelley     3   M           0\n",
       "4  1993-03-30     Paula Romero     4   F           0"
      ]
     },
     "execution_count": 103,
     "metadata": {},
     "output_type": "execute_result"
    }
   ],
   "source": [
    "people_out_df = people_df[['bday','name','p_id','sex','subscriber']]\n",
    "people_out_df.head()"
   ]
  },
  {
   "cell_type": "code",
   "execution_count": 104,
   "metadata": {},
   "outputs": [
    {
     "name": "stdout",
     "output_type": "stream",
     "text": [
      "7\n"
     ]
    },
    {
     "name": "stderr",
     "output_type": "stream",
     "text": [
      "/home/dan-laptop/anaconda3/lib/python3.5/site-packages/ipykernel/__main__.py:21: SettingWithCopyWarning: \n",
      "A value is trying to be set on a copy of a slice from a DataFrame.\n",
      "Try using .loc[row_indexer,col_indexer] = value instead\n",
      "\n",
      "See the caveats in the documentation: http://pandas.pydata.org/pandas-docs/stable/indexing.html#indexing-view-versus-copy\n"
     ]
    },
    {
     "name": "stdout",
     "output_type": "stream",
     "text": [
      "214\n",
      "204\n"
     ]
    }
   ],
   "source": [
    "def change_column(column, change_func, change_rate=0.001):\n",
    "    output = []\n",
    "    count = 0\n",
    "    for i in column:\n",
    "        if np.random.rand() <= change_rate:\n",
    "            count += 1\n",
    "            i = change_func(i)\n",
    "        output.append(i)\n",
    "    \n",
    "    print(count)\n",
    "    return output\n",
    "\n",
    "def change_bday(bday):\n",
    "    bday = datetime.strptime(bday,'%Y-%m-%d')-timedelta(days=365*500)\n",
    "    bday = bday.strftime('%Y-%m-%d')\n",
    "    return bday\n",
    "\n",
    "def change_key(key):\n",
    "    return key+np.random.randint(number_people,number_people*10)\n",
    "\n",
    "people_out_df['bday'] = change_column(people_out_df['bday'],change_bday)\n",
    "behavioral_out_df = behavioral_df.copy()\n",
    "behavioral_out_df['p_id'] = change_column(behavioral_out_df['p_id'],change_key,change_rate=0.0002)\n",
    "behavioral_out_df['show_id'] = change_column(behavioral_out_df['show_id'],change_key,change_rate=0.0002)"
   ]
  },
  {
   "cell_type": "code",
   "execution_count": 105,
   "metadata": {
    "collapsed": true
   },
   "outputs": [],
   "source": [
    "people_out_df.to_csv('subscribers.csv', index=False)"
   ]
  },
  {
   "cell_type": "code",
   "execution_count": 106,
   "metadata": {
    "collapsed": true
   },
   "outputs": [],
   "source": [
    "behavioral_out_df.to_csv('actions.csv', index=False)"
   ]
  },
  {
   "cell_type": "code",
   "execution_count": 107,
   "metadata": {
    "collapsed": true
   },
   "outputs": [],
   "source": [
    "show_df.to_csv('shows.csv', index=False)"
   ]
  },
  {
   "cell_type": "code",
   "execution_count": null,
   "metadata": {
    "collapsed": true
   },
   "outputs": [],
   "source": []
  }
 ],
 "metadata": {
  "kernelspec": {
   "display_name": "Python [default]",
   "language": "python",
   "name": "python3"
  },
  "language_info": {
   "codemirror_mode": {
    "name": "ipython",
    "version": 3
   },
   "file_extension": ".py",
   "mimetype": "text/x-python",
   "name": "python",
   "nbconvert_exporter": "python",
   "pygments_lexer": "ipython3",
   "version": "3.5.3"
  }
 },
 "nbformat": 4,
 "nbformat_minor": 2
}
