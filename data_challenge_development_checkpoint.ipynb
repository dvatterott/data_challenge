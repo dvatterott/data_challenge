{
 "cells": [
  {
   "cell_type": "code",
   "execution_count": 1,
   "metadata": {},
   "outputs": [
    {
     "name": "stdout",
     "output_type": "stream",
     "text": [
      "CPython 3.5.3\n",
      "IPython 5.1.0\n",
      "\n",
      "pandas 0.19.2\n",
      "numpy 1.11.3\n",
      "scipy 0.19.0\n",
      "faker n\u0007\n",
      "\n",
      "compiler   : GCC 4.4.7 20120313 (Red Hat 4.4.7-1)\n",
      "system     : Linux\n",
      "release    : 4.4.0-79-generic\n",
      "machine    : x86_64\n",
      "processor  : x86_64\n",
      "CPU cores  : 4\n",
      "interpreter: 64bit\n",
      "Git hash   : e4d423ecd94684bb81768e5b7d1b692cd6a43a7b\n"
     ]
    }
   ],
   "source": [
    "%load_ext watermark\n",
    "%watermark -v -m -p pandas,numpy,scipy,faker -g"
   ]
  },
  {
   "cell_type": "code",
   "execution_count": 3,
   "metadata": {
    "collapsed": true
   },
   "outputs": [],
   "source": [
    "shows = {'title':['Velocity','HD','Punky Heels','Jack Wild','Duendes','Cant Buy Time'],\n",
    "        'genre':['action','drama','comedy','reality','fantasy','sci-fi'],\n",
    "        'description':['an action packed thriller about a pregnant woman stuck on a subway car that cannot slow down',\n",
    "                      '35 year old Mike, struggles to reconnect with his birth family after being diagnosed with a genetic disorder',\n",
    "                      'a romantic comedy about a young woman trying to find love in the city',\n",
    "                      'a recent college grad trying to find himself learns the meaning of life while stuck in an alaskan blizzard',\n",
    "                      'an unknown creature terrorizes the town of Salamanca, will they survive?',\n",
    "                      'a group of friends gets stuck in a suburban shopping mall as the manifold of time and space collapses around them'\n",
    "                      ],\n",
    "        'show_id':[1,2,3,4,5,6]\n",
    "        }"
   ]
  },
  {
   "cell_type": "code",
   "execution_count": 7,
   "metadata": {
    "collapsed": true
   },
   "outputs": [],
   "source": [
    "import pandas as pd\n",
    "\n",
    "show_df = pd.DataFrame(shows)"
   ]
  },
  {
   "cell_type": "code",
   "execution_count": 8,
   "metadata": {},
   "outputs": [
    {
     "data": {
      "text/html": [
       "<div>\n",
       "<table border=\"1\" class=\"dataframe\">\n",
       "  <thead>\n",
       "    <tr style=\"text-align: right;\">\n",
       "      <th></th>\n",
       "      <th>description</th>\n",
       "      <th>genre</th>\n",
       "      <th>show_id</th>\n",
       "      <th>title</th>\n",
       "    </tr>\n",
       "  </thead>\n",
       "  <tbody>\n",
       "    <tr>\n",
       "      <th>0</th>\n",
       "      <td>an action packed thriller about a pregnant wom...</td>\n",
       "      <td>action</td>\n",
       "      <td>1</td>\n",
       "      <td>Velocity</td>\n",
       "    </tr>\n",
       "    <tr>\n",
       "      <th>1</th>\n",
       "      <td>35 year old Mike, struggles to reconnect with ...</td>\n",
       "      <td>drama</td>\n",
       "      <td>2</td>\n",
       "      <td>HD</td>\n",
       "    </tr>\n",
       "    <tr>\n",
       "      <th>2</th>\n",
       "      <td>a romantic comedy about a young woman trying t...</td>\n",
       "      <td>comedy</td>\n",
       "      <td>3</td>\n",
       "      <td>Punky Heels</td>\n",
       "    </tr>\n",
       "    <tr>\n",
       "      <th>3</th>\n",
       "      <td>a recent college grad trying to find himself l...</td>\n",
       "      <td>reality</td>\n",
       "      <td>4</td>\n",
       "      <td>Jack Wild</td>\n",
       "    </tr>\n",
       "    <tr>\n",
       "      <th>4</th>\n",
       "      <td>an unknown creature terrorizes the town of Sal...</td>\n",
       "      <td>fantasy</td>\n",
       "      <td>5</td>\n",
       "      <td>Duendes</td>\n",
       "    </tr>\n",
       "    <tr>\n",
       "      <th>5</th>\n",
       "      <td>a group of friends gets stuck in a suburban sh...</td>\n",
       "      <td>sci-fi</td>\n",
       "      <td>6</td>\n",
       "      <td>Cant Buy Time</td>\n",
       "    </tr>\n",
       "  </tbody>\n",
       "</table>\n",
       "</div>"
      ],
      "text/plain": [
       "                                         description    genre  show_id  \\\n",
       "0  an action packed thriller about a pregnant wom...   action        1   \n",
       "1  35 year old Mike, struggles to reconnect with ...    drama        2   \n",
       "2  a romantic comedy about a young woman trying t...   comedy        3   \n",
       "3  a recent college grad trying to find himself l...  reality        4   \n",
       "4  an unknown creature terrorizes the town of Sal...  fantasy        5   \n",
       "5  a group of friends gets stuck in a suburban sh...   sci-fi        6   \n",
       "\n",
       "           title  \n",
       "0       Velocity  \n",
       "1             HD  \n",
       "2    Punky Heels  \n",
       "3      Jack Wild  \n",
       "4        Duendes  \n",
       "5  Cant Buy Time  "
      ]
     },
     "execution_count": 8,
     "metadata": {},
     "output_type": "execute_result"
    }
   ],
   "source": [
    "show_df"
   ]
  },
  {
   "cell_type": "code",
   "execution_count": 22,
   "metadata": {
    "collapsed": true
   },
   "outputs": [],
   "source": [
    "from faker import Faker\n",
    "fake = Faker()\n",
    "people = {'name': [],\n",
    "          'sex': [],\n",
    "          'bday': [],\n",
    "          'address': [],\n",
    "          'p_id':[]\n",
    "         }\n",
    "\n",
    "for i in range(10):\n",
    "    profile = fake.simple_profile(sex=None) \n",
    "    people['name'].append(profile['name'])\n",
    "    people['sex'].append(profile['sex'])\n",
    "    people['bday'].append(profile['birthdate'])\n",
    "    people['address'].append(profile['address'])\n",
    "    people['p_id'].append(i)\n",
    "    \n",
    "people_df = pd.DataFrame(people)"
   ]
  },
  {
   "cell_type": "code",
   "execution_count": 65,
   "metadata": {
    "collapsed": true
   },
   "outputs": [],
   "source": [
    "import numpy as np\n",
    "import matplotlib.pyplot as plt\n",
    "import seaborn as sns\n",
    "%matplotlib inline"
   ]
  },
  {
   "cell_type": "code",
   "execution_count": 140,
   "metadata": {},
   "outputs": [
    {
     "data": {
      "text/plain": [
       "3.592140826371412"
      ]
     },
     "execution_count": 140,
     "metadata": {},
     "output_type": "execute_result"
    }
   ],
   "source": [
    "np.random.uniform(0,10)"
   ]
  },
  {
   "cell_type": "code",
   "execution_count": 143,
   "metadata": {
    "collapsed": true
   },
   "outputs": [],
   "source": [
    "def generate_alpha_dict(x, y):\n",
    "    output = {}\n",
    "    if isinstance(y, list):\n",
    "        low_y = y[0]\n",
    "        high_y = y[1]\n",
    "    else:\n",
    "        low_y = 1\n",
    "        high_y = y\n",
    "        \n",
    "    for i in range(x+1):\n",
    "        output[i] = np.random.uniform(low_y,high_y)\n",
    "    \n",
    "    return output"
   ]
  },
  {
   "cell_type": "code",
   "execution_count": 156,
   "metadata": {
    "collapsed": true
   },
   "outputs": [],
   "source": [
    "import numpy as np\n",
    "import datetime\n",
    "\n",
    "age_tv_watching_alphas = generate_alpha_dict(10,10)\n",
    "\n",
    "def create_use_prob(customer_df, alpha=5, beta=5, date_column='bday'):\n",
    "    assert isinstance(customer_df, pd.DataFrame)\n",
    "    \n",
    "    def find_age_group(row, alpha):\n",
    "        assert isinstance(alpha, dict)\n",
    "        \n",
    "        def calculate_age(born):\n",
    "            assert isinstance(born, datetime.datetime)\n",
    "        \n",
    "            today = datetime.date.today()\n",
    "            return today.year - born.year - ((today.month, today.day) < (born.month, born.day))\n",
    "    \n",
    "        born = datetime.datetime.strptime(row[1][date_column],'%Y-%m-%d')\n",
    "        age = int(calculate_age(born) / 10)\n",
    "        while True:\n",
    "            if age in alpha:\n",
    "                return alpha[age]\n",
    "            else:\n",
    "                age -= 1\n",
    "            if age < 0:\n",
    "                return 'alpha_dict broken!'\n",
    "    \n",
    "    watch_prob = []\n",
    "    love_tv = []\n",
    "    for i in customer_df.iterrows():\n",
    "        watch_propensity = 0\n",
    "        while watch_propensity <= 0:\n",
    "            watch_propensity = find_age_group(i, alpha)\n",
    "            tv_propensity = np.random.normal()*2.0\n",
    "            watch_propensity += tv_propensity \n",
    "        \n",
    "        love_tv.append(tv_propensity)\n",
    "        watch_prob.append(np.random.beta(watch_propensity, beta))\n",
    "    \n",
    "    customer_df['affinity_4_tv'] = love_tv\n",
    "    customer_df['watch_prob'] = watch_prob\n",
    "    return customer_df"
   ]
  },
  {
   "cell_type": "code",
   "execution_count": 157,
   "metadata": {
    "collapsed": true
   },
   "outputs": [],
   "source": [
    "people_df = create_use_prob(people_df, alpha=age_tv_watching_alphas)"
   ]
  },
  {
   "cell_type": "code",
   "execution_count": 158,
   "metadata": {},
   "outputs": [
    {
     "data": {
      "text/html": [
       "<div>\n",
       "<table border=\"1\" class=\"dataframe\">\n",
       "  <thead>\n",
       "    <tr style=\"text-align: right;\">\n",
       "      <th></th>\n",
       "      <th>address</th>\n",
       "      <th>bday</th>\n",
       "      <th>name</th>\n",
       "      <th>p_id</th>\n",
       "      <th>sex</th>\n",
       "      <th>watch_prob</th>\n",
       "      <th>affinity_4_tv</th>\n",
       "    </tr>\n",
       "  </thead>\n",
       "  <tbody>\n",
       "    <tr>\n",
       "      <th>0</th>\n",
       "      <td>PSC 9059, Box 3964\\nAPO AP 58127</td>\n",
       "      <td>1998-11-21</td>\n",
       "      <td>Patrick Reed</td>\n",
       "      <td>0</td>\n",
       "      <td>M</td>\n",
       "      <td>0.638578</td>\n",
       "      <td>-2.053810</td>\n",
       "    </tr>\n",
       "    <tr>\n",
       "      <th>1</th>\n",
       "      <td>37793 Reed Passage Suite 833\\nDawnton, PA 78777</td>\n",
       "      <td>2013-04-06</td>\n",
       "      <td>Jimmy Moran</td>\n",
       "      <td>1</td>\n",
       "      <td>M</td>\n",
       "      <td>0.195426</td>\n",
       "      <td>-2.936765</td>\n",
       "    </tr>\n",
       "    <tr>\n",
       "      <th>2</th>\n",
       "      <td>8880 Kim Drives\\nLake Cody, CO 62943-2779</td>\n",
       "      <td>1975-09-15</td>\n",
       "      <td>Michael Williams</td>\n",
       "      <td>2</td>\n",
       "      <td>M</td>\n",
       "      <td>0.292500</td>\n",
       "      <td>-2.443869</td>\n",
       "    </tr>\n",
       "    <tr>\n",
       "      <th>3</th>\n",
       "      <td>83356 Alexander Village Apt. 787\\nAnthonyfurt,...</td>\n",
       "      <td>2014-05-10</td>\n",
       "      <td>Andrea Ayala</td>\n",
       "      <td>3</td>\n",
       "      <td>F</td>\n",
       "      <td>0.599566</td>\n",
       "      <td>1.376630</td>\n",
       "    </tr>\n",
       "    <tr>\n",
       "      <th>4</th>\n",
       "      <td>Unit 0163 Box 6168\\nDPO AE 50838</td>\n",
       "      <td>1974-07-27</td>\n",
       "      <td>Wendy Lloyd</td>\n",
       "      <td>4</td>\n",
       "      <td>F</td>\n",
       "      <td>0.654158</td>\n",
       "      <td>1.534502</td>\n",
       "    </tr>\n",
       "    <tr>\n",
       "      <th>5</th>\n",
       "      <td>Unit 8156 Box 1258\\nDPO AE 95424</td>\n",
       "      <td>1997-08-15</td>\n",
       "      <td>Christopher Gonzalez</td>\n",
       "      <td>5</td>\n",
       "      <td>M</td>\n",
       "      <td>0.644682</td>\n",
       "      <td>-0.834553</td>\n",
       "    </tr>\n",
       "    <tr>\n",
       "      <th>6</th>\n",
       "      <td>263 Mahoney Squares\\nEast Walterburgh, WV 0024...</td>\n",
       "      <td>1983-07-18</td>\n",
       "      <td>Julie Owens</td>\n",
       "      <td>6</td>\n",
       "      <td>F</td>\n",
       "      <td>0.567360</td>\n",
       "      <td>0.986996</td>\n",
       "    </tr>\n",
       "    <tr>\n",
       "      <th>7</th>\n",
       "      <td>5854 Cobb Loop Apt. 896\\nNorth Casey, KS 40699</td>\n",
       "      <td>1996-01-23</td>\n",
       "      <td>Lindsay Johnson</td>\n",
       "      <td>7</td>\n",
       "      <td>F</td>\n",
       "      <td>0.009072</td>\n",
       "      <td>-3.785448</td>\n",
       "    </tr>\n",
       "    <tr>\n",
       "      <th>8</th>\n",
       "      <td>USS Shepherd\\nFPO AA 91039-0685</td>\n",
       "      <td>1988-08-16</td>\n",
       "      <td>Autumn Young</td>\n",
       "      <td>8</td>\n",
       "      <td>F</td>\n",
       "      <td>0.310576</td>\n",
       "      <td>-0.118203</td>\n",
       "    </tr>\n",
       "    <tr>\n",
       "      <th>9</th>\n",
       "      <td>894 Reyes Flat Suite 144\\nSarahbury, MT 59905-...</td>\n",
       "      <td>1979-07-24</td>\n",
       "      <td>Emily Moreno</td>\n",
       "      <td>9</td>\n",
       "      <td>F</td>\n",
       "      <td>0.493374</td>\n",
       "      <td>-2.437766</td>\n",
       "    </tr>\n",
       "  </tbody>\n",
       "</table>\n",
       "</div>"
      ],
      "text/plain": [
       "                                             address        bday  \\\n",
       "0                   PSC 9059, Box 3964\\nAPO AP 58127  1998-11-21   \n",
       "1    37793 Reed Passage Suite 833\\nDawnton, PA 78777  2013-04-06   \n",
       "2          8880 Kim Drives\\nLake Cody, CO 62943-2779  1975-09-15   \n",
       "3  83356 Alexander Village Apt. 787\\nAnthonyfurt,...  2014-05-10   \n",
       "4                   Unit 0163 Box 6168\\nDPO AE 50838  1974-07-27   \n",
       "5                   Unit 8156 Box 1258\\nDPO AE 95424  1997-08-15   \n",
       "6  263 Mahoney Squares\\nEast Walterburgh, WV 0024...  1983-07-18   \n",
       "7     5854 Cobb Loop Apt. 896\\nNorth Casey, KS 40699  1996-01-23   \n",
       "8                    USS Shepherd\\nFPO AA 91039-0685  1988-08-16   \n",
       "9  894 Reyes Flat Suite 144\\nSarahbury, MT 59905-...  1979-07-24   \n",
       "\n",
       "                   name  p_id sex  watch_prob  affinity_4_tv  \n",
       "0          Patrick Reed     0   M    0.638578      -2.053810  \n",
       "1           Jimmy Moran     1   M    0.195426      -2.936765  \n",
       "2      Michael Williams     2   M    0.292500      -2.443869  \n",
       "3          Andrea Ayala     3   F    0.599566       1.376630  \n",
       "4           Wendy Lloyd     4   F    0.654158       1.534502  \n",
       "5  Christopher Gonzalez     5   M    0.644682      -0.834553  \n",
       "6           Julie Owens     6   F    0.567360       0.986996  \n",
       "7       Lindsay Johnson     7   F    0.009072      -3.785448  \n",
       "8          Autumn Young     8   F    0.310576      -0.118203  \n",
       "9          Emily Moreno     9   F    0.493374      -2.437766  "
      ]
     },
     "execution_count": 158,
     "metadata": {},
     "output_type": "execute_result"
    }
   ],
   "source": [
    "people_df"
   ]
  },
  {
   "cell_type": "code",
   "execution_count": 120,
   "metadata": {},
   "outputs": [
    {
     "data": {
      "text/plain": [
       "0"
      ]
     },
     "execution_count": 120,
     "metadata": {},
     "output_type": "execute_result"
    }
   ],
   "source": [
    "np.where(np.random.multinomial(1, [1/6.]*6, size=1)[0])[0][0]"
   ]
  },
  {
   "cell_type": "markdown",
   "metadata": {},
   "source": [
    "create another function that maps alpha values to individuals, but this time one alpha value for each show. This function should use age and gender and maybe another hidden variable. I can then give the alpha values to a dirichlet which will give probabilities of watched each show, which is given to the multinomal function, which chooses which show the individual watched. \n",
    "\n",
    "after I know what shows people watched, I can just count the number of times a person watched a show. The more times a person watches a show, the more likely they are to sign up. This will be some final binomial draw where the probability is drawn from a beta whose alpha is determined by the number of shows watched.\n",
    "\n",
    "after all this i have to add in bad data somehow. then just think about how to make this generalize better!"
   ]
  },
  {
   "cell_type": "code",
   "execution_count": 128,
   "metadata": {},
   "outputs": [
    {
     "data": {
      "text/plain": [
       "array([ 0.26648385,  0.40599903,  0.10231488,  0.22520225])"
      ]
     },
     "execution_count": 128,
     "metadata": {},
     "output_type": "execute_result"
    }
   ],
   "source": [
    "np.random.dirichlet((10, 5.3, 3, 4), 1)[0]"
   ]
  },
  {
   "cell_type": "code",
   "execution_count": 164,
   "metadata": {},
   "outputs": [
    {
     "data": {
      "text/plain": [
       "'F'"
      ]
     },
     "execution_count": 164,
     "metadata": {},
     "output_type": "execute_result"
    }
   ],
   "source": [
    "i[1]['sex']"
   ]
  },
  {
   "cell_type": "code",
   "execution_count": 198,
   "metadata": {
    "collapsed": true
   },
   "outputs": [],
   "source": [
    "female_alphas = generate_alpha_dict(10,10)\n",
    "male_alphas = generate_alpha_dict(10,10)\n",
    "\n",
    "def find_show_probability(row, alpha_dict):\n",
    "    male_dict = alpha_dict[0]\n",
    "    female_dict = alpha_dict[1]\n",
    "    gender = row[1]['sex']\n",
    "    if gender == 'M':\n",
    "        alpha = male_dict\n",
    "    elif gender == 'F':\n",
    "        alpha = female_dict\n",
    "    else:\n",
    "        return 'i am outdated and only do binary gender'\n",
    "    \n",
    "    born = datetime.datetime.strptime(row[1]['bday'],'%Y-%m-%d')\n",
    "    age = int(calculate_age(born) / 10)\n",
    "    \n",
    "    while True:\n",
    "        if age in alpha:\n",
    "            return [alpha[age], 5]\n",
    "        else:\n",
    "            age -= 1\n",
    "        if age < 0:\n",
    "            return 'alpha_dict broken!'"
   ]
  },
  {
   "cell_type": "code",
   "execution_count": 199,
   "metadata": {
    "collapsed": true
   },
   "outputs": [],
   "source": [
    "def per_row_draws(customer_df, draw_func, parameter_func, alpha):\n",
    "    assert isinstance(customer_df, pd.DataFrame)\n",
    "    \n",
    "    output = []\n",
    "    for i in customer_df.iterrows():\n",
    "        draw_inputs = parameter_func(i, alpha)\n",
    "        output.append(draw_func(*draw_inputs))\n",
    "    \n",
    "    return output"
   ]
  },
  {
   "cell_type": "code",
   "execution_count": 200,
   "metadata": {},
   "outputs": [
    {
     "data": {
      "text/plain": [
       "[7.240558165011662,\n",
       " 17.498622220849953,\n",
       " 5.601372470734555,\n",
       " 12.358945627677803,\n",
       " 14.260092128748772,\n",
       " 2.6559956096621278,\n",
       " 12.509482712510042,\n",
       " 6.030096790495744,\n",
       " 10.837648101103587,\n",
       " 4.258367446116318]"
      ]
     },
     "execution_count": 200,
     "metadata": {},
     "output_type": "execute_result"
    }
   ],
   "source": [
    "female_alphas = generate_alpha_dict(10,10)\n",
    "male_alphas = generate_alpha_dict(10,10)\n",
    "\n",
    "alpha = [male_alphas, female_alphas]\n",
    "\n",
    "per_row_draws(people_df, np.random.normal, find_show_probability, alpha)"
   ]
  },
  {
   "cell_type": "code",
   "execution_count": null,
   "metadata": {
    "collapsed": true
   },
   "outputs": [],
   "source": [
    "def create_use_df(customer_df, product_df, size=1000, person_id = 'p_id'):\n",
    "    behavior_df = pd.DataFrame()\n",
    "    while behavior_df.shape[0] < size:\n",
    "        person = np.random.choice(people_df[person_id])\n",
    "        if np.random.binomial(1, customer_df[customer_df[person_id] == person].watch_prob.values[0]):\n",
    "            show_watched = np.where(np.random.multinomial(1, [1/6.]*6, size=1)[0])[0][0]"
   ]
  }
 ],
 "metadata": {
  "kernelspec": {
   "display_name": "Python [default]",
   "language": "python",
   "name": "python3"
  },
  "language_info": {
   "codemirror_mode": {
    "name": "ipython",
    "version": 3
   },
   "file_extension": ".py",
   "mimetype": "text/x-python",
   "name": "python",
   "nbconvert_exporter": "python",
   "pygments_lexer": "ipython3",
   "version": "3.5.3"
  }
 },
 "nbformat": 4,
 "nbformat_minor": 2
}
